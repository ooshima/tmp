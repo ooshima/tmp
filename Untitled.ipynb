{
 "cells": [
  {
   "cell_type": "code",
   "execution_count": 7,
   "metadata": {
    "collapsed": false
   },
   "outputs": [
    {
     "name": "stdout",
     "output_type": "stream",
     "text": [
      "          Name Category Rarelity  Lv  n  1  2  3  4  5 ...  21  22  23  24  \\\n",
      "0    リボルバードラゴン  Monster       UR   7  1  0  0  0  0  0 ...   0   0   2   0   \n",
      "1        ビッグコア  Monster       UR   6  1  0  0  0  0  2 ...   2   0   1   0   \n",
      "2         スサノオ  Monster       SR   4  1  3  3  3  0  0 ...   0   0   0   0   \n",
      "3          機械王  Monster        R   6  1  0  0  4  2  0 ...   1   3   0   0   \n",
      "4    機械王プロトタイプ  Monster        R   3  2  0  0  0  0  0 ...   0   0   0   1   \n",
      "5        オイルメン  Monster        R   2  1  1  0  0  0  4 ...   0   0   0   2   \n",
      "6      トラップチーム  Monster        R   2  1  0  1  0  4  0 ...   0   0   0   0   \n",
      "7   ロードブリティッシュ  Monster        N   4  1  2  2  0  0  0 ...   0   4   0   0   \n",
      "8       ファルシオン  Monster        N   4  1  0  0  0  0  0 ...   0   2   0   0   \n",
      "9        ツイスター    Magic       SR   0  1  0  0  1  3  0 ...   4   0   0   0   \n",
      "10          磁力    Magic        R   0  2  0  0  0  0  3 ...   0   0   0   4   \n",
      "11      機械改造工場    Magic        R   0  2  4  4  0  0  0 ...   0   0   3   3   \n",
      "12         道連れ     Trap       UR   0  1  0  0  0  0  0 ...   0   0   0   0   \n",
      "13    マジックジャマー     Trap       UR   0  1  0  0  0  0  0 ...   3   0   0   0   \n",
      "14      粘着落とし穴     Trap       SR   0  1  0  0  0  1  0 ...   0   1   4   0   \n",
      "15          装置     Trap        R   0  1  0  0  0  0  0 ...   0   0   0   0   \n",
      "16          衝動     Trap        N   0  1  0  0  2  0  1 ...   0   0   0   0   \n",
      "\n",
      "    25  26  27  28  29  30  \n",
      "0    0   3   0   2   0   1  \n",
      "1    4   0   0   0   2   0  \n",
      "2    0   0   1   0   0   0  \n",
      "3    0   2   0   0   4   0  \n",
      "4    3   1   0   0   0   0  \n",
      "5    1   0   0   1   0   0  \n",
      "6    0   0   2   0   0   3  \n",
      "7    0   0   0   0   3   0  \n",
      "8    0   0   0   0   0   0  \n",
      "9    0   4   0   0   0   2  \n",
      "10   2   0   0   0   0   0  \n",
      "11   0   0   0   0   0   0  \n",
      "12   0   0   0   0   0   0  \n",
      "13   0   0   4   3   0   0  \n",
      "14   0   0   3   0   0   0  \n",
      "15   0   0   0   4   0   4  \n",
      "16   0   0   0   0   1   0  \n",
      "\n",
      "[17 rows x 35 columns]\n"
     ]
    }
   ],
   "source": [
    "import pandas as pd\n",
    "\n",
    "file = '1sthand.csv'\n",
    "\n",
    "df = pd.read_csv(file, encoding='Shift_JIS')\n",
    "df = df.fillna(0)\n",
    "print(df)"
   ]
  },
  {
   "cell_type": "code",
   "execution_count": 16,
   "metadata": {
    "collapsed": false
   },
   "outputs": [
    {
     "data": {
      "text/plain": [
       "0      リボルバードラゴン\n",
       "1          ビッグコア\n",
       "2           スサノオ\n",
       "3            機械王\n",
       "4      機械王プロトタイプ\n",
       "5          オイルメン\n",
       "6        トラップチーム\n",
       "7     ロードブリティッシュ\n",
       "8         ファルシオン\n",
       "9          ツイスター\n",
       "10            磁力\n",
       "11        機械改造工場\n",
       "12           道連れ\n",
       "13      マジックジャマー\n",
       "14        粘着落とし穴\n",
       "15            装置\n",
       "16            衝動\n",
       "Name: Name, dtype: object"
      ]
     },
     "execution_count": 16,
     "metadata": {},
     "output_type": "execute_result"
    }
   ],
   "source": [
    "#pd.[pivot_table(df, columns='Category', index='Rarelity', aggfunc='count')\n",
    "df['Name']\n",
    "#df.groupby="
   ]
  },
  {
   "cell_type": "code",
   "execution_count": null,
   "metadata": {
    "collapsed": true
   },
   "outputs": [],
   "source": []
  },
  {
   "cell_type": "code",
   "execution_count": null,
   "metadata": {
    "collapsed": true
   },
   "outputs": [],
   "source": []
  }
 ],
 "metadata": {
  "kernelspec": {
   "display_name": "Python 3",
   "language": "python",
   "name": "python3"
  },
  "language_info": {
   "codemirror_mode": {
    "name": "ipython",
    "version": 3
   },
   "file_extension": ".py",
   "mimetype": "text/x-python",
   "name": "python",
   "nbconvert_exporter": "python",
   "pygments_lexer": "ipython3",
   "version": "3.5.0"
  }
 },
 "nbformat": 4,
 "nbformat_minor": 0
}
