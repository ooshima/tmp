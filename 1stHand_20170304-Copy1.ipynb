{
 "cells": [
  {
   "cell_type": "code",
   "execution_count": 1,
   "metadata": {
    "collapsed": true
   },
   "outputs": [],
   "source": [
    "import numpy as np\n",
    "import numpy.random as rd\n",
    "import matplotlib.pyplot as plt\n",
    "%matplotlib inline\n",
    "import pandas as pd\n",
    "import scipy.misc as scm"
   ]
  },
  {
   "cell_type": "code",
   "execution_count": 5,
   "metadata": {
    "collapsed": false
   },
   "outputs": [],
   "source": [
    "nTest=30 #試行回数\n",
    "\n",
    "#枚数\n",
    "monster=10 #ダブりあり\n",
    "magic=5 #ダブりあり\n",
    "trap=5\n",
    "ur=4\n",
    "sr=3\n",
    "r=10 #ダブりあり\n",
    "n=3"
   ]
  },
  {
   "cell_type": "code",
   "execution_count": 22,
   "metadata": {
    "collapsed": false
   },
   "outputs": [
    {
     "name": "stdout",
     "output_type": "stream",
     "text": [
      "ur0枚 0.375645\n",
      "[0.37564499484004127]\n",
      "ur0枚 0.375645\n",
      "ur1枚 0.462332\n",
      "ur2枚 0.148607\n",
      "ur3枚 0.013209\n",
      "ur4枚 0.000206\n"
     ]
    }
   ],
   "source": [
    "#ur\n",
    "N=20 #デッキ枚数\n",
    "M=ur #デッキにあるキーカード枚数\n",
    "n=4 #初期手札の枚数\n",
    "x=0 #初期手札に入ったキーカード枚数\n",
    "\n",
    "#p0=scm.comb(N-M,n)/scm.comb(N,n)\n",
    "#print('ur%d枚 %f' %(x, p0))\n",
    "\n",
    "p=[]\n",
    "p.append(scm.comb(N-M,n)/scm.comb(N,n))\n",
    "print(p)\n",
    "\n",
    "for x in range(1,n+1):\n",
    "    p.append(scm.comb(M,x)*scm.comb(N-M,n-x)/scm.comb(N,n))\n",
    "\n",
    "for x in range(0,len(p)):\n",
    "    print('ur%d枚 %f' %(x, p[x]))"
   ]
  },
  {
   "cell_type": "code",
   "execution_count": null,
   "metadata": {
    "collapsed": true
   },
   "outputs": [],
   "source": []
  },
  {
   "cell_type": "code",
   "execution_count": null,
   "metadata": {
    "collapsed": true
   },
   "outputs": [],
   "source": [
    "#二項検定\n",
    "success=11 #成功数\n",
    "Pb=0\n",
    "Pa=0\n",
    "#下側\n",
    "for i in range(0,success+1):\n",
    "    Pb += scm.comb(n,i)*pow(p,i)*pow(1-p,n-i)\n",
    "#上側\n",
    "for i in range(success,n+1):\n",
    "    Pa += scm.comb(n,i)*pow(p,i)*pow(1-p,n-i)\n",
    "print(Pb)\n",
    "print(Pa)\n",
    "print(Pb+Pa)\n",
    "print('-----')\n",
    "\n",
    "#二項検定\n",
    "success=2 #成功数\n",
    "Pb=0\n",
    "Pa=0\n",
    "#下側\n",
    "for i in range(0,success+1):\n",
    "    Pb += scm.comb(n,i)*pow(p,i)*pow(1-p,n-i)\n",
    "#上側\n",
    "for i in range(success,n+1):\n",
    "    Pa += scm.comb(n,i)*pow(p,i)*pow(1-p,n-i)\n",
    "print(Pb)\n",
    "print(Pa)\n",
    "print(Pb+Pa)\n",
    "print('-----')\n",
    "\n",
    "#二項検定\n",
    "success=4 #成功数\n",
    "Pb=0\n",
    "Pa=0\n",
    "#下側\n",
    "for i in range(0,success+1):\n",
    "    Pb += scm.comb(n,i)*pow(p,i)*pow(1-p,n-i)\n",
    "#上側\n",
    "for i in range(success,n+1):\n",
    "    Pa += scm.comb(n,i)*pow(p,i)*pow(1-p,n-i)\n",
    "print(Pb)\n",
    "print(Pa)\n",
    "print(Pb+Pa)"
   ]
  },
  {
   "cell_type": "code",
   "execution_count": null,
   "metadata": {
    "collapsed": true
   },
   "outputs": [],
   "source": [
    "#確率\n",
    "p1=0.2 #デッキに１枚\n",
    "p2=0.4 #デッキに２枚\n",
    "\n",
    "#標本数\n",
    "size=1000\n",
    "\n",
    "#x1=rd.binomial(n,p1,size)\n",
    "#x2=rd.binomial(n,p2,size)\n",
    "\n",
    "#print(max(x1))\n",
    "#print(max(x2))\n",
    "#min(x1)"
   ]
  },
  {
   "cell_type": "code",
   "execution_count": 107,
   "metadata": {
    "collapsed": false
   },
   "outputs": [
    {
     "data": {
      "text/plain": [
       "<bound method Figure.show of <matplotlib.figure.Figure object at 0x10eee09e8>>"
      ]
     },
     "execution_count": 107,
     "metadata": {},
     "output_type": "execute_result"
    },
    {
     "data": {
      "image/png": "[encoded data removed]",
      "text/plain": [
       "<matplotlib.figure.Figure at 0x10eee09e8>"
      ]
     },
     "metadata": {},
     "output_type": "display_data"
    }
   ],
   "source": [
    "#グラフ描画\n",
    "\n",
    "fig, (axL, axR) = plt.subplots(ncols=2, figsize=(10,4))\n",
    "\n",
    "axL.hist(x1, bins=15, range=(0,25))\n",
    "axR.hist(x2, bins=15, range=(0,25))\n",
    "\n",
    "fig.show"
   ]
  },
  {
   "cell_type": "code",
   "execution_count": 108,
   "metadata": {
    "collapsed": false
   },
   "outputs": [
    {
     "data": {
      "text/plain": [
       "<matplotlib.legend.Legend at 0x10ec25ba8>"
      ]
     },
     "execution_count": 108,
     "metadata": {},
     "output_type": "execute_result"
    },
    {
     "data": {
      "image/png": "[encoded data removed]",
      "text/plain": [
       "<matplotlib.figure.Figure at 0x10ecf5860>"
      ]
     },
     "metadata": {},
     "output_type": "display_data"
    }
   ],
   "source": [
    "#グラフ描画　重ねる\n",
    "plt.hist(x1, label='1 in Deck', bins=15, range=(0,25), alpha=0.5)\n",
    "plt.hist(x2, label='2 in Deck', bins=15, range=(0,25), alpha=0.5)\n",
    "plt.legend()"
   ]
  },
  {
   "cell_type": "code",
   "execution_count": 139,
   "metadata": {
    "collapsed": false
   },
   "outputs": [
    {
     "data": {
      "image/png": "[encoded data removed]",
      "text/plain": [
       "<matplotlib.figure.Figure at 0x110254c88>"
      ]
     },
     "metadata": {},
     "output_type": "display_data"
    }
   ],
   "source": [
    "#グラフ描画　どっちかだけ\n",
    "plt.hist(x1, label='1 in Deck', bins=max(x1))\n",
    "#plt.hist(x2, label='2 in Deck', range=(0,max(x2)),bins=max(x2))\n",
    "#plt.legend()\n",
    "\n",
    "#plt.title(\"Growing Number of Duellists on Duel Links\")\n",
    "plt.xlabel(\"Number of Initial Hands\")\n",
    "plt.ylabel(\"Frequency\")\n",
    "plt.tight_layout()\n",
    "\n",
    "# HTMLに埋め込むためにファイル出力\n",
    "#plt.savefig('./1inDeck.png')\n",
    "#plt.savefig('./2inDeck.png')"
   ]
  },
  {
   "cell_type": "code",
   "execution_count": 110,
   "metadata": {
    "collapsed": false
   },
   "outputs": [
    {
     "data": {
      "text/plain": [
       "(array([    1.,     8.,    35.,   124.,   255.,   412.,   595.,   750.,\n",
       "          870.,   937.,   969.,   986.,   997.,   998.,  1000.]),\n",
       " array([  0.,   1.,   2.,   3.,   4.,   5.,   6.,   7.,   8.,   9.,  10.,\n",
       "         11.,  12.,  13.,  14.,  15.]),\n",
       " <a list of 15 Patch objects>)"
      ]
     },
     "execution_count": 110,
     "metadata": {},
     "output_type": "execute_result"
    },
    {
     "data": {
      "image/png": "[encoded data removed]",
      "text/plain": [
       "<matplotlib.figure.Figure at 0x10d960358>"
      ]
     },
     "metadata": {},
     "output_type": "display_data"
    }
   ],
   "source": [
    "plt.hist(x1, label='1 in Deck',range=(0,max(x1)), bins=max(x1), cumulative=True)\n",
    "#plt.hist(x2, label='2 in Deck',range=(0,21), bins=max(x2), cumulative=True)"
   ]
  },
  {
   "cell_type": "code",
   "execution_count": 138,
   "metadata": {
    "collapsed": false
   },
   "outputs": [
    {
     "data": {
      "image/png": "[encoded data removed]",
      "text/plain": [
       "<matplotlib.figure.Figure at 0x110205a58>"
      ]
     },
     "metadata": {},
     "output_type": "display_data"
    }
   ],
   "source": [
    "#グラフ描画　どっちかだけで累積\n",
    "plt.hist(x1, label='1 in Deck',range=(0,max(x1)), bins=(max(x1)), cumulative=True, normed=True)\n",
    "#plt.hist(x2, label='2 in Deck',range=(0,max(x2)), bins=max(x2), cumulative=True, normed=True)\n",
    "#plt.legend()\n",
    "\n",
    "#plt.title(\"Growing Number of Duellists on Duel Links\")\n",
    "plt.xlabel(\"Number of Initial Hands\")\n",
    "plt.ylabel(\"Frequency\")\n",
    "plt.tight_layout()\n",
    "\n",
    "# HTMLに埋め込むためにファイル出力\n",
    "#plt.savefig('./1inDeck_c.png')\n",
    "#plt.savefig('./2inDeck_c.png')"
   ]
  },
  {
   "cell_type": "code",
   "execution_count": 164,
   "metadata": {
    "collapsed": false
   },
   "outputs": [
    {
     "name": "stdout",
     "output_type": "stream",
     "text": [
      "173.1856\n",
      "0.25\n",
      "0.15\n",
      "    デッキに入れた枚数  初期手札に入った回数\n",
      "0           1           9\n",
      "1           1           9\n",
      "2           1          11\n",
      "3           1           7\n",
      "5           1           7\n",
      "6           1           8\n",
      "7           1           4\n",
      "8           1           6\n",
      "9           1           8\n",
      "12          1           2\n",
      "13          1           4\n",
      "14          1           6\n",
      "15          1           6\n",
      "16          1           6\n",
      "[ 9  9 11  7  7  8  4  6  8  2  4  6  6  6]\n",
      "14\n",
      "[ 6.  6.  6.  6.  6.  6.  6.  6.  6.  6.  6.  6.  6.  6.]\n",
      "12.8333333333\n"
     ]
    }
   ],
   "source": [
    "#誤差e，信頼度tで確率pの推定？するのに必要な標本数\n",
    "e=0.05 #誤差\n",
    "#t=1.96 #信頼度95%\n",
    "t=1.645\n",
    "p=0.2\n",
    "nSample=pow((t/e),2)*p*(1-p)\n",
    "print(nSample)\n",
    "\n",
    "#信頼区間？\n",
    "I=p+t*np.sqrt(p*(1-p)/nSample)\n",
    "print(I)\n",
    "I=p-t*np.sqrt(p*(1-p)/nSample)\n",
    "print(I)\n",
    "\n",
    "#カイ二乗検定\n",
    "file = 'duel_result.csv'\n",
    "\n",
    "df = pd.read_csv(file, encoding='Shift_JIS')\n",
    "#print(df)\n",
    "df = df[df['デッキに入れた枚数']==1]\n",
    "print(df)\n",
    "\n",
    "nar=np.array(df['初期手札に入った回数'])\n",
    "print(nar)\n",
    "print(len(nar))\n",
    "\n",
    "#期待値の配列\n",
    "E=np.ones(len(nar))*p1*n\n",
    "print(E)\n",
    "#print(p1*n)\n",
    "\n",
    "#カイ二乗の計算\n",
    "X2=np.sum(pow((E-nar),2)/E)\n",
    "print(X2)\n",
    "    "
   ]
  }
 ],
 "metadata": {
  "kernelspec": {
   "display_name": "Python 3",
   "language": "python",
   "name": "python3"
  },
  "language_info": {
   "codemirror_mode": {
    "name": "ipython",
    "version": 3
   },
   "file_extension": ".py",
   "mimetype": "text/x-python",
   "name": "python",
   "nbconvert_exporter": "python",
   "pygments_lexer": "ipython3",
   "version": "3.5.0"
  }
 },
 "nbformat": 4,
 "nbformat_minor": 0
}
