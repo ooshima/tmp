{
 "cells": [
  {
   "cell_type": "code",
   "execution_count": 7,
   "metadata": {
    "collapsed": false
   },
   "outputs": [
    {
     "name": "stdout",
     "output_type": "stream",
     "text": [
      "['a', 'b', 'c', 'd', 'e', 'f', 'g', 'h', 'i', 'j', 'k', 'l', 'm', 'n', 'o', 'p', 'q', 'r', 's', 't']\n"
     ]
    }
   ],
   "source": [
    "#アルファベット小文字のリスト\n",
    "N=20 #総数\n",
    "M=3*2 #お目当てのものの総数\n",
    "n=5 #取ってくる数\n",
    "x=3 #お目当てのものが入っている数\n",
    "seq=[chr(i) for i in range(97,97+N)]\n",
    "print(seq)"
   ]
  },
  {
   "cell_type": "code",
   "execution_count": 3,
   "metadata": {
    "collapsed": false
   },
   "outputs": [],
   "source": [
    "#順列 ↓計算させるとフリーズするのでダメ！！\n",
    "#list(itertools.permutations(seq))"
   ]
  },
  {
   "cell_type": "code",
   "execution_count": 8,
   "metadata": {
    "collapsed": false
   },
   "outputs": [
    {
     "name": "stdout",
     "output_type": "stream",
     "text": [
      "15504\n"
     ]
    }
   ],
   "source": [
    "import itertools\n",
    "#p = list(itertools.permutations(seq,3))\n",
    "cn = list(itertools.combinations(seq,n))\n",
    "print(len(cn))"
   ]
  },
  {
   "cell_type": "code",
   "execution_count": 9,
   "metadata": {
    "collapsed": false
   },
   "outputs": [
    {
     "name": "stdout",
     "output_type": "stream",
     "text": [
      "1140\n",
      "136\n",
      "20\n"
     ]
    }
   ],
   "source": [
    "cx = list(itertools.combinations(seq,x))\n",
    "print(len(cx))\n",
    "\n",
    "seq_nx=[chr(i) for i in range(97,97+(N-x))]\n",
    "c_nx = list(itertools.combinations(seq_nx,n-x))\n",
    "print(len(c_nx))\n",
    "\n",
    "seq_x = [chr(i) for i in range(97,97+M)]\n",
    "c_x = list(itertools.combinations(seq_x,x))\n",
    "print(len(c_x))"
   ]
  },
  {
   "cell_type": "code",
   "execution_count": 10,
   "metadata": {
    "collapsed": false
   },
   "outputs": [
    {
     "name": "stdout",
     "output_type": "stream",
     "text": [
      "0.17543859649122806\n"
     ]
    }
   ],
   "source": [
    "print(float(len(c_nx))*float(len(c_x))/float(len(cn)))"
   ]
  },
  {
   "cell_type": "code",
   "execution_count": null,
   "metadata": {
    "collapsed": true
   },
   "outputs": [],
   "source": []
  }
 ],
 "metadata": {
  "anaconda-cloud": {},
  "kernelspec": {
   "display_name": "Python 3",
   "language": "python",
   "name": "python3"
  },
  "language_info": {
   "codemirror_mode": {
    "name": "ipython",
    "version": 3
   },
   "file_extension": ".py",
   "mimetype": "text/x-python",
   "name": "python",
   "nbconvert_exporter": "python",
   "pygments_lexer": "ipython3",
   "version": "3.5.0"
  }
 },
 "nbformat": 4,
 "nbformat_minor": 1
}
